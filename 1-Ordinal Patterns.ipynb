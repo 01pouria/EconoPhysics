{
 "cells": [
  {
   "cell_type": "code",
   "execution_count": 209,
   "id": "8b2a187a",
   "metadata": {},
   "outputs": [],
   "source": [
    "import numpy as np\n",
    "import pandas as pd\n",
    "import math\n",
    "import matplotlib.pyplot as plt\n",
    "import seaborn as sns\n",
    "import yfinance as yf\n",
    "import itertools\n",
    "import time"
   ]
  },
  {
   "cell_type": "code",
   "execution_count": 224,
   "id": "3088899f",
   "metadata": {},
   "outputs": [],
   "source": [
    "def ordinalPattern(time_series, d):\n",
    "    n = len(time_series)\n",
    "    patterns = []\n",
    "    for i in range(n - d + 1):\n",
    "        sub_seq = time_series[i:i + d]\n",
    "        ranks = np.argsort(np.argsort(sub_seq))\n",
    "        patterns.append(tuple(ranks))\n",
    "    return patterns\n",
    "\n",
    "def ordinalPatternAll(d):\n",
    "    perms = list(itertools.permutations(range(d)))\n",
    "    return perms\n",
    "\n",
    "def ordinalPatternAllIdx(d):\n",
    "    all_patterns = ordinalPatternAll(d)\n",
    "    all_patterns_idx = {}\n",
    "    for i in range(len(all_patterns)):\n",
    "        all_patterns_idx[i]=all_patterns[i]\n",
    "    return all_patterns_idx\n",
    "\n",
    "def timeSeriesPattern(time_series, d):\n",
    "    patterns = ordinalPattern(time_series, d)\n",
    "    all_patterns=ordinalPatternAllIdx(d)\n",
    "    time_series_pattern_idx =[]\n",
    "    for i in patterns:\n",
    "        for j in range(len(all_patterns)):\n",
    "            if i==all_patterns[j]:\n",
    "                time_series_pattern_idx.append(j)\n",
    "    return time_series_pattern_idx\n",
    "\n",
    "def conditionalProbabilityOfOrdinaPatterns(time_series, d):\n",
    "    q=timeSeriesPattern(time_series, d)\n",
    "    idx = np.unique(q)\n",
    "    pe = []\n",
    "    for i in idx :\n",
    "        for j in range(len(q)-1):\n",
    "            if i == q[j]:\n",
    "                pe.append([q[j],q[j+1]]) \n",
    "    s = {}\n",
    "    s_percent = {}\n",
    "    for m in idx:\n",
    "        val =[]\n",
    "        for i in pe :\n",
    "            if i[0] == m:\n",
    "                val.append(i[1])\n",
    "\n",
    "        p = []\n",
    "        p_percent = []\n",
    "        for i in idx:\n",
    "            c = 0\n",
    "            for j in val:\n",
    "                if i == j:\n",
    "                    c+=1\n",
    "            p.append(c)\n",
    "            p_percent.append((c/len(val)*100))\n",
    "        s[m] = p\n",
    "        s_percent[m] = p_percent\n",
    "    return s,s_percent"
   ]
  },
  {
   "cell_type": "code",
   "execution_count": 234,
   "id": "dc75e359",
   "metadata": {},
   "outputs": [
    {
     "name": "stdout",
     "output_type": "stream",
     "text": [
      "{0: (0, 1), 1: (1, 0)}\n"
     ]
    },
    {
     "data": {
      "text/html": [
       "<div>\n",
       "<style scoped>\n",
       "    .dataframe tbody tr th:only-of-type {\n",
       "        vertical-align: middle;\n",
       "    }\n",
       "\n",
       "    .dataframe tbody tr th {\n",
       "        vertical-align: top;\n",
       "    }\n",
       "\n",
       "    .dataframe thead th {\n",
       "        text-align: right;\n",
       "    }\n",
       "</style>\n",
       "<table border=\"1\" class=\"dataframe\">\n",
       "  <thead>\n",
       "    <tr style=\"text-align: right;\">\n",
       "      <th></th>\n",
       "      <th>0</th>\n",
       "      <th>1</th>\n",
       "    </tr>\n",
       "  </thead>\n",
       "  <tbody>\n",
       "    <tr>\n",
       "      <th>0</th>\n",
       "      <td>6</td>\n",
       "      <td>1</td>\n",
       "    </tr>\n",
       "    <tr>\n",
       "      <th>1</th>\n",
       "      <td>2</td>\n",
       "      <td>0</td>\n",
       "    </tr>\n",
       "  </tbody>\n",
       "</table>\n",
       "</div>"
      ],
      "text/plain": [
       "   0  1\n",
       "0  6  1\n",
       "1  2  0"
      ]
     },
     "execution_count": 234,
     "metadata": {},
     "output_type": "execute_result"
    }
   ],
   "source": [
    "time_series = [1, 3, 4, 2, 5, 6, 6, 7, 8, 9, 0]\n",
    "d=2\n",
    "s,s1=conditionalProbabilityOfOrdinaPatterns(time_series, d)\n",
    "data = pd.DataFrame(s,index=s.keys(),columns=s.keys())\n",
    "ap = ordinalPatternAllIdx(d)\n",
    "print(ap)\n",
    "data"
   ]
  },
  {
   "cell_type": "code",
   "execution_count": 201,
   "id": "52ffe1f4",
   "metadata": {},
   "outputs": [],
   "source": [
    "OIL=yf.Ticker('CL=F')\n",
    "oil=OIL.history(period='max',interval='1d')"
   ]
  },
  {
   "cell_type": "code",
   "execution_count": 202,
   "id": "e13dc41b",
   "metadata": {},
   "outputs": [],
   "source": [
    "oil_close = oil['Close'].values"
   ]
  },
  {
   "cell_type": "code",
   "execution_count": 238,
   "id": "a53d4f97",
   "metadata": {},
   "outputs": [
    {
     "name": "stdout",
     "output_type": "stream",
     "text": [
      "All pattens symbol whit d = 3\n",
      "{0: (0, 1, 2), 1: (0, 2, 1), 2: (1, 0, 2), 3: (1, 2, 0), 4: (2, 0, 1), 5: (2, 1, 0)}\n"
     ]
    }
   ],
   "source": [
    "d=3\n",
    "oil_CPOP,oil_CPOPP=conditionalProbabilityOfOrdinaPatterns(oil_close, d)\n",
    "data = pd.DataFrame(oil_CPOP,index=oil_CPOP.keys(),columns=oil_CPOP.keys())\n",
    "datap = pd.DataFrame(oil_CPOPP,index=oil_CPOPP.keys(),columns=oil_CPOPP.keys())\n",
    "ap = ordinalPatternAllIdx(d)\n",
    "print('All pattens symbol whit d = '+str(d))\n",
    "print(ap)"
   ]
  },
  {
   "cell_type": "code",
   "execution_count": 239,
   "id": "6a1e7473",
   "metadata": {},
   "outputs": [
    {
     "data": {
      "text/html": [
       "<div>\n",
       "<style scoped>\n",
       "    .dataframe tbody tr th:only-of-type {\n",
       "        vertical-align: middle;\n",
       "    }\n",
       "\n",
       "    .dataframe tbody tr th {\n",
       "        vertical-align: top;\n",
       "    }\n",
       "\n",
       "    .dataframe thead th {\n",
       "        text-align: right;\n",
       "    }\n",
       "</style>\n",
       "<table border=\"1\" class=\"dataframe\">\n",
       "  <thead>\n",
       "    <tr style=\"text-align: right;\">\n",
       "      <th></th>\n",
       "      <th>0</th>\n",
       "      <th>1</th>\n",
       "      <th>2</th>\n",
       "      <th>3</th>\n",
       "      <th>4</th>\n",
       "      <th>5</th>\n",
       "    </tr>\n",
       "  </thead>\n",
       "  <tbody>\n",
       "    <tr>\n",
       "      <th>0</th>\n",
       "      <td>832</td>\n",
       "      <td>0</td>\n",
       "      <td>422</td>\n",
       "      <td>0</td>\n",
       "      <td>375</td>\n",
       "      <td>0</td>\n",
       "    </tr>\n",
       "    <tr>\n",
       "      <th>1</th>\n",
       "      <td>427</td>\n",
       "      <td>0</td>\n",
       "      <td>241</td>\n",
       "      <td>0</td>\n",
       "      <td>134</td>\n",
       "      <td>0</td>\n",
       "    </tr>\n",
       "    <tr>\n",
       "      <th>2</th>\n",
       "      <td>0</td>\n",
       "      <td>290</td>\n",
       "      <td>0</td>\n",
       "      <td>129</td>\n",
       "      <td>0</td>\n",
       "      <td>346</td>\n",
       "    </tr>\n",
       "    <tr>\n",
       "      <th>3</th>\n",
       "      <td>370</td>\n",
       "      <td>0</td>\n",
       "      <td>102</td>\n",
       "      <td>0</td>\n",
       "      <td>276</td>\n",
       "      <td>0</td>\n",
       "    </tr>\n",
       "    <tr>\n",
       "      <th>4</th>\n",
       "      <td>0</td>\n",
       "      <td>142</td>\n",
       "      <td>0</td>\n",
       "      <td>271</td>\n",
       "      <td>0</td>\n",
       "      <td>372</td>\n",
       "    </tr>\n",
       "    <tr>\n",
       "      <th>5</th>\n",
       "      <td>0</td>\n",
       "      <td>370</td>\n",
       "      <td>0</td>\n",
       "      <td>348</td>\n",
       "      <td>0</td>\n",
       "      <td>614</td>\n",
       "    </tr>\n",
       "  </tbody>\n",
       "</table>\n",
       "</div>"
      ],
      "text/plain": [
       "     0    1    2    3    4    5\n",
       "0  832    0  422    0  375    0\n",
       "1  427    0  241    0  134    0\n",
       "2    0  290    0  129    0  346\n",
       "3  370    0  102    0  276    0\n",
       "4    0  142    0  271    0  372\n",
       "5    0  370    0  348    0  614"
      ]
     },
     "execution_count": 239,
     "metadata": {},
     "output_type": "execute_result"
    }
   ],
   "source": [
    "data"
   ]
  },
  {
   "cell_type": "code",
   "execution_count": 240,
   "id": "5f2e186b",
   "metadata": {},
   "outputs": [
    {
     "data": {
      "text/html": [
       "<div>\n",
       "<style scoped>\n",
       "    .dataframe tbody tr th:only-of-type {\n",
       "        vertical-align: middle;\n",
       "    }\n",
       "\n",
       "    .dataframe tbody tr th {\n",
       "        vertical-align: top;\n",
       "    }\n",
       "\n",
       "    .dataframe thead th {\n",
       "        text-align: right;\n",
       "    }\n",
       "</style>\n",
       "<table border=\"1\" class=\"dataframe\">\n",
       "  <thead>\n",
       "    <tr style=\"text-align: right;\">\n",
       "      <th></th>\n",
       "      <th>0</th>\n",
       "      <th>1</th>\n",
       "      <th>2</th>\n",
       "      <th>3</th>\n",
       "      <th>4</th>\n",
       "      <th>5</th>\n",
       "    </tr>\n",
       "  </thead>\n",
       "  <tbody>\n",
       "    <tr>\n",
       "      <th>0</th>\n",
       "      <td>51.074279</td>\n",
       "      <td>0.000000</td>\n",
       "      <td>55.163399</td>\n",
       "      <td>0.000000</td>\n",
       "      <td>47.770701</td>\n",
       "      <td>0.000000</td>\n",
       "    </tr>\n",
       "    <tr>\n",
       "      <th>1</th>\n",
       "      <td>26.212400</td>\n",
       "      <td>0.000000</td>\n",
       "      <td>31.503268</td>\n",
       "      <td>0.000000</td>\n",
       "      <td>17.070064</td>\n",
       "      <td>0.000000</td>\n",
       "    </tr>\n",
       "    <tr>\n",
       "      <th>2</th>\n",
       "      <td>0.000000</td>\n",
       "      <td>36.159601</td>\n",
       "      <td>0.000000</td>\n",
       "      <td>17.245989</td>\n",
       "      <td>0.000000</td>\n",
       "      <td>25.975976</td>\n",
       "    </tr>\n",
       "    <tr>\n",
       "      <th>3</th>\n",
       "      <td>22.713321</td>\n",
       "      <td>0.000000</td>\n",
       "      <td>13.333333</td>\n",
       "      <td>0.000000</td>\n",
       "      <td>35.159236</td>\n",
       "      <td>0.000000</td>\n",
       "    </tr>\n",
       "    <tr>\n",
       "      <th>4</th>\n",
       "      <td>0.000000</td>\n",
       "      <td>17.705736</td>\n",
       "      <td>0.000000</td>\n",
       "      <td>36.229947</td>\n",
       "      <td>0.000000</td>\n",
       "      <td>27.927928</td>\n",
       "    </tr>\n",
       "    <tr>\n",
       "      <th>5</th>\n",
       "      <td>0.000000</td>\n",
       "      <td>46.134663</td>\n",
       "      <td>0.000000</td>\n",
       "      <td>46.524064</td>\n",
       "      <td>0.000000</td>\n",
       "      <td>46.096096</td>\n",
       "    </tr>\n",
       "  </tbody>\n",
       "</table>\n",
       "</div>"
      ],
      "text/plain": [
       "           0          1          2          3          4          5\n",
       "0  51.074279   0.000000  55.163399   0.000000  47.770701   0.000000\n",
       "1  26.212400   0.000000  31.503268   0.000000  17.070064   0.000000\n",
       "2   0.000000  36.159601   0.000000  17.245989   0.000000  25.975976\n",
       "3  22.713321   0.000000  13.333333   0.000000  35.159236   0.000000\n",
       "4   0.000000  17.705736   0.000000  36.229947   0.000000  27.927928\n",
       "5   0.000000  46.134663   0.000000  46.524064   0.000000  46.096096"
      ]
     },
     "execution_count": 240,
     "metadata": {},
     "output_type": "execute_result"
    }
   ],
   "source": [
    "datap"
   ]
  },
  {
   "cell_type": "code",
   "execution_count": 242,
   "id": "d4301e99",
   "metadata": {},
   "outputs": [
    {
     "data": {
      "image/png": "[encoded data removed]",
      "text/plain": [
       "<Figure size 800x600 with 2 Axes>"
      ]
     },
     "metadata": {
      "needs_background": "light"
     },
     "output_type": "display_data"
    }
   ],
   "source": [
    "plt.figure(figsize=(8,6),dpi=100)\n",
    "plt.title('Oil Conditional Probability of Ordinal Patterns')\n",
    "sns.heatmap(datap,vmin=0,vmax=100,annot=True)\n",
    "plt.show()"
   ]
  }
 ],
 "metadata": {
  "kernelspec": {
   "display_name": "Python 3 (ipykernel)",
   "language": "python",
   "name": "python3"
  },
  "language_info": {
   "codemirror_mode": {
    "name": "ipython",
    "version": 3
   },
   "file_extension": ".py",
   "mimetype": "text/x-python",
   "name": "python",
   "nbconvert_exporter": "python",
   "pygments_lexer": "ipython3",
   "version": "3.9.7"
  }
 },
 "nbformat": 4,
 "nbformat_minor": 5
}
